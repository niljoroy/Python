{
 "cells": [
  {
   "cell_type": "code",
   "execution_count": 17,
   "id": "ef66c1cc-8f33-4fe5-9b44-cb701228dd71",
   "metadata": {},
   "outputs": [
    {
     "name": "stdin",
     "output_type": "stream",
     "text": [
      "enter side1 value in cm 3\n",
      "enter side2 value in cm 5\n"
     ]
    },
    {
     "name": "stdout",
     "output_type": "stream",
     "text": [
      "Hypotenuse is 5.830951894845301\n"
     ]
    }
   ],
   "source": [
    "import math\n",
    "\n",
    "side1 = float(input(\"enter side1 value in cm\"))\n",
    "side2 = float(input(\"enter side2 value in cm\"))\n",
    "\n",
    "h = math.sqrt(side1**2 + side2**2)\n",
    "\n",
    "#display hypotenuse\n",
    "print(\"Hypotenuse is\", h)\n"
   ]
  },
  {
   "cell_type": "code",
   "execution_count": null,
   "id": "caa05850-b646-45dd-b613-7df3b4964029",
   "metadata": {},
   "outputs": [],
   "source": []
  },
  {
   "cell_type": "code",
   "execution_count": 11,
   "id": "d8810e30-eb87-43c0-ae7f-5dbf81946c0f",
   "metadata": {},
   "outputs": [
    {
     "name": "stdout",
     "output_type": "stream",
     "text": [
      "1 miles is equal to 1.61 kilometers\n"
     ]
    },
    {
     "name": "stdin",
     "output_type": "stream",
     "text": [
      "enter your number 3\n"
     ]
    },
    {
     "name": "stdout",
     "output_type": "stream",
     "text": [
      "3.0 miles is equal to 4.83 kilometers\n",
      "3.0 kilometers is equal to 1.8633540372670807 miles\n"
     ]
    }
   ],
   "source": [
    " print(\"1 miles is equal to 1.61 kilometers\")\n",
    " #  assisgn value to variables\n",
    "number_1 = float(input(\"enter your number\"))\n",
    "m = 1.61\n",
    "k = 1/m\n",
    "#convert miles to kilometers\n",
    "value1 = number_1*m\n",
    "#convert kilometers to miles\n",
    "value2 = number_1/m\n",
    "#display\n",
    "print(number_1, \"miles is equal to\", value1, \"kilometers\")\n",
    "print(number_1, \"kilometers is equal to\", value2, \"miles\")         \n"
   ]
  },
  {
   "cell_type": "code",
   "execution_count": 7,
   "id": "2fd781d7-ac2b-4940-b9aa-4ad50b95d0f0",
   "metadata": {},
   "outputs": [
    {
     "name": "stdin",
     "output_type": "stream",
     "text": [
      "enter your radius in cm: 7\n"
     ]
    },
    {
     "name": "stdout",
     "output_type": "stream",
     "text": [
      "153.86\n"
     ]
    }
   ],
   "source": [
    "#assign the value to pi,radius\n",
    "pi = 3.14\n",
    "r = float(input(\"enter your radius in cm:\"))\n",
    "#equation for the area\n",
    "Area = pi*r**2\n",
    "#display\n",
    "print(float(Area))\n"
   ]
  },
  {
   "cell_type": "code",
   "execution_count": null,
   "id": "9e34d44b-c4be-4d52-ad15-abdbdc9a8341",
   "metadata": {},
   "outputs": [],
   "source": []
  }
 ],
 "metadata": {
  "kernelspec": {
   "display_name": "anaconda-panel-2023.05-py310",
   "language": "python",
   "name": "conda-env-anaconda-panel-2023.05-py310-py"
  },
  "language_info": {
   "codemirror_mode": {
    "name": "ipython",
    "version": 3
   },
   "file_extension": ".py",
   "mimetype": "text/x-python",
   "name": "python",
   "nbconvert_exporter": "python",
   "pygments_lexer": "ipython3",
   "version": "3.11.4"
  }
 },
 "nbformat": 4,
 "nbformat_minor": 5
}
